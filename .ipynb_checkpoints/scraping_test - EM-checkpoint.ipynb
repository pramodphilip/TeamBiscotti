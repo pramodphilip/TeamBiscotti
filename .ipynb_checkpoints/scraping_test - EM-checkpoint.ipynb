{
 "cells": [
  {
   "cell_type": "code",
   "execution_count": 18,
   "metadata": {},
   "outputs": [],
   "source": [
    "from splinter import Browser\n",
    "from bs4 import BeautifulSoup\n",
    "from webdriver_manager.chrome import ChromeDriverManager\n",
    "import pymongo\n",
    "import requests\n",
    "import pandas as pd"
   ]
  },
  {
   "cell_type": "code",
   "execution_count": 19,
   "metadata": {},
   "outputs": [
    {
     "name": "stderr",
     "output_type": "stream",
     "text": [
      "[WDM] - ====== WebDriver manager ======\n",
      "[WDM] - Current google-chrome version is 89.0.4389\n",
      "[WDM] - Get LATEST driver version for 89.0.4389\n",
      "[WDM] - Driver [C:\\Users\\Lola\\.wdm\\drivers\\chromedriver\\win32\\89.0.4389.23\\chromedriver.exe] found in cache\n"
     ]
    },
    {
     "name": "stdout",
     "output_type": "stream",
     "text": [
      "\n",
      "\n"
     ]
    }
   ],
   "source": [
    "executable_path = {'executable_path': ChromeDriverManager().install()}\n",
    "browser = Browser('chrome', **executable_path, headless=False)"
   ]
  },
  {
   "cell_type": "code",
   "execution_count": 20,
   "metadata": {},
   "outputs": [],
   "source": [
    "url = 'https://quotes.toscrape.com/'\n",
    "browser.visit(url)"
   ]
  },
  {
   "cell_type": "code",
   "execution_count": 21,
   "metadata": {},
   "outputs": [],
   "source": [
    "html = browser.html\n",
    "soup = BeautifulSoup(html,'html.parser')"
   ]
  },
  {
   "cell_type": "code",
   "execution_count": 22,
   "metadata": {},
   "outputs": [],
   "source": [
    "#quote_list = []"
   ]
  },
  {
   "cell_type": "code",
   "execution_count": 23,
   "metadata": {},
   "outputs": [],
   "source": [
    "boxes = soup.find_all('div',class_='quote')\n",
    "#target = boxes[0].a['href']\n",
    "#browser.links.find_by_href(target).click()"
   ]
  },
  {
   "cell_type": "code",
   "execution_count": 24,
   "metadata": {},
   "outputs": [],
   "source": [
    "#html = browser.html\n",
    "#soup = BeautifulSoup(html,'html.parser')"
   ]
  },
  {
   "cell_type": "code",
   "execution_count": 25,
   "metadata": {},
   "outputs": [],
   "source": [
    "#author_name = soup.find('h3',class_='author-title').text\n",
    "#author_name"
   ]
  },
  {
   "cell_type": "code",
   "execution_count": 26,
   "metadata": {},
   "outputs": [],
   "source": [
    "#author_born_date = soup.find('span',class_='author-born-date').text\n",
    "#author_born_location = soup.find('span',class_='author-born-location').text\n",
    "#description = soup.find('div',class_='author-description').text.replace('\\n', '')"
   ]
  },
  {
   "cell_type": "code",
   "execution_count": 27,
   "metadata": {},
   "outputs": [],
   "source": [
    "#browser.back()"
   ]
  },
  {
   "cell_type": "code",
   "execution_count": 28,
   "metadata": {},
   "outputs": [],
   "source": [
    "#quote_text = boxes[0].span.text\n",
    "#quote_text"
   ]
  },
  {
   "cell_type": "code",
   "execution_count": 29,
   "metadata": {},
   "outputs": [],
   "source": [
    "#quote_tags = boxes[7].div.text.replace('\\n',',').split(',')\n",
    "\n",
    "#do_not_want = ['','            Tags:','            ']\n",
    "#quote_tags = [tag for tag in quote_tags if tag not in do_not_want]\n",
    "\n",
    "#'            ' # boxes[1]\n",
    "#'            '\n",
    "#quote_tags.remove('')\n",
    "#quote_tags.remove('            ')\n",
    "#quote_tags.remove('            Tags:')\n",
    "#quote_tags"
   ]
  },
  {
   "cell_type": "code",
   "execution_count": 30,
   "metadata": {},
   "outputs": [],
   "source": [
    "#quote_mini = {'author_name':author_name,\n",
    "#              'author_born_date':author_born_date,\n",
    "#              'author_born_location':author_born_location,\n",
    "#              'description':description,\n",
    "#              'quote_text':quote_text,\n",
    "#              'quote_tags':quote_tags}\n",
    "#quote_mini"
   ]
  },
  {
   "cell_type": "code",
   "execution_count": 31,
   "metadata": {},
   "outputs": [],
   "source": [
    "#quote_list.append(quote_mini)\n",
    "#quote_list"
   ]
  },
  {
   "cell_type": "code",
   "execution_count": 32,
   "metadata": {},
   "outputs": [],
   "source": [
    "#browser.links.find_by_text('Next ').click()\n",
    "\n",
    "#html = browser.html\n",
    "#soup = BeautifulSoup(html,'html.parser')\n",
    "\n",
    "#boxes = soup.find_all('div',class_='quote')\n",
    "#boxes"
   ]
  },
  {
   "cell_type": "code",
   "execution_count": 33,
   "metadata": {},
   "outputs": [],
   "source": [
    "#browser.quit()"
   ]
  },
  {
   "cell_type": "code",
   "execution_count": 34,
   "metadata": {},
   "outputs": [],
   "source": [
    "quotes_list = []\n",
    "\n",
    "while len(browser.links.find_by_partial_text('Next ')) > 0:\n",
    "    for box in boxes:\n",
    "        quote_mini = {}\n",
    "        target = box.a['href']\n",
    "        browser.links.find_by_href(target).click()\n",
    "        \n",
    "        html = browser.html\n",
    "        soup = BeautifulSoup(html,'html.parser')\n",
    "        \n",
    "        quote_mini['author_name'] = soup.find('h3',class_='author-title').text\n",
    "        \n",
    "        quote_mini['birth_date'] = soup.find('span',class_='author-born-date').text\n",
    "        quote_mini['birth_place'] = soup.find('span',class_='author-born-location').text\n",
    "        quote_mini['description'] = soup.find('div',class_='author-description').text.replace('\\n', '')\n",
    "        \n",
    "        browser.back()\n",
    "        \n",
    "        quote_mini['quote_text'] = box.span.text\n",
    "        \n",
    "        quote_tags = box.div.text.replace('\\n',',').split(',')\n",
    "        do_not_want = ['','            Tags:','            ']\n",
    "        quote_mini['quote_tags'] = [tag for tag in quote_tags if tag not in do_not_want]\n",
    "        \n",
    "        #quote_mini = {'author_name':author_name,\n",
    "        #              'birth_date':author_born_date,\n",
    "        #              'birth_place':author_born_location,\n",
    "        #              'description':description,\n",
    "        #              'quote_text':quote_text,\n",
    "        #              'quote_tags':quote_tags}\n",
    "        \n",
    "        quotes_list.append(quote_mini)\n",
    "        \n",
    "    browser.links.find_by_text('Next ').click()\n",
    "\n",
    "    html = browser.html\n",
    "    soup = BeautifulSoup(html,'html.parser')\n",
    "\n",
    "    boxes = soup.find_all('div',class_='quote')"
   ]
  },
  {
   "cell_type": "code",
   "execution_count": 35,
   "metadata": {},
   "outputs": [],
   "source": [
    "for box in boxes:\n",
    "    target = box.a['href']\n",
    "    browser.links.find_by_href(target).click()\n",
    "        \n",
    "    html = browser.html\n",
    "    soup = BeautifulSoup(html,'html.parser')\n",
    "        \n",
    "    quote_mini['author_name'] = soup.find('h3',class_='author-title').text\n",
    "        \n",
    "    quote_mini['birth_date'] = soup.find('span',class_='author-born-date').text\n",
    "    quote_mini['birth_place'] = soup.find('span',class_='author-born-location').text\n",
    "    quote_mini[\"description\"] = soup.find('div',class_='author-description').text.replace('\\n', '')\n",
    "        \n",
    "    browser.back()\n",
    "        \n",
    "    quote_mini['quote_text'] = box.span.text\n",
    "        \n",
    "    quote_tags = box.div.text.replace('\\n',',').split(',')\n",
    "    do_not_want = ['','            Tags:','            ']\n",
    "    quote_mini['quote_tags'] = [tag for tag in quote_tags if tag not in do_not_want]\n",
    "\n",
    "    #quote_mini = {'author_name':author_name,\n",
    "    #              'birth_date':author_born_date,\n",
    "    #              'birth_place':author_born_location,\n",
    "    #              'description':description,\n",
    "    #              'quote_text':quote_text,\n",
    "    #              'quote_tags':quote_tags}\n",
    "        \n",
    "    quotes_list.append(quote_mini)"
   ]
  },
  {
   "cell_type": "code",
   "execution_count": 36,
   "metadata": {},
   "outputs": [],
   "source": [
    "browser.quit()"
   ]
  },
  {
   "cell_type": "code",
   "execution_count": 37,
   "metadata": {},
   "outputs": [],
   "source": [
    "#quotes_list"
   ]
  },
  {
   "cell_type": "code",
   "execution_count": 38,
   "metadata": {},
   "outputs": [],
   "source": [
    "conn = 'mongodb://localhost:27017'\n",
    "client = pymongo.MongoClient(conn)"
   ]
  },
  {
   "cell_type": "code",
   "execution_count": 39,
   "metadata": {},
   "outputs": [],
   "source": [
    "db = client.quotes_db"
   ]
  },
  {
   "cell_type": "code",
   "execution_count": 40,
   "metadata": {},
   "outputs": [
    {
     "ename": "BulkWriteError",
     "evalue": "batch op errors occurred, full error: {'writeErrors': [{'index': 90, 'code': 11000, 'keyPattern': {'_id': 1}, 'keyValue': {'_id': ObjectId('6053f05e83f920371e2cf1a3')}, 'errmsg': \"E11000 duplicate key error collection: quotes_db.quotes index: _id_ dup key: { _id: ObjectId('6053f05e83f920371e2cf1a3') }\", 'op': {'author_name': 'George R.R. Martin', 'birth_date': 'September 20, 1948', 'birth_place': 'in Bayonne, New Jersey, The United States', 'description': '        George R. R. Martin was born September 20, 1948, in Bayonne, New Jersey. His father was Raymond Collins Martin, a longshoreman, and his mother was Margaret Brady Martin. He has two sisters, Darleen Martin Lapinski and Janet Martin Patten. Martin attended Mary Jane Donohoe School and Marist High School. He began writing very young, selling monster stories to other neighborhood children for pennies, dramatic readings included. Later he became a comic book fan and collector in high school, and began to write fiction for comic fanzines (amateur fan magazines). Martin\\'s first professional sale was made in 1970 at age 21: \"The Hero,\" sold to Galaxy, published in February, 1971 issue. Other sales followed. In 1970 Martin received a B.S. in Journalism from Northwestern University, Evanston, Illinois, graduating summa cum laude. He went on to complete a M.S. in Journalism in 1971, also from Northwestern. As a conscientious objector, Martin did alternative service 1972-1974 with VISTA, attached to Cook County Legal Assistance Foundation. He also directed chess tournaments for the Continental Chess Association from 1973-1976, and was a Journalism instructor at Clarke College, Dubuque, Iowa, from 1976-1978. He wrote part-time throughout the 1970s while working as a VISTA Volunteer, chess director, and teacher. In 1975 he married Gale Burnick. They divorced in 1979, with no children. Martin became a full-time writer in 1979. He was writer-in-residence at Clarke College from 1978-79. Moving on to Hollywood, Martin signed on as a story editor for Twilight Zone at CBS Television in 1986. In 1987 Martin became an Executive Story Consultant for Beauty and the Beast at CBS. In 1988 he became a Producer for Beauty and the Beast, then in 1989 moved up to Co-Supervising Producer. He was Executive Producer for Doorways, a pilot which he wrote for Columbia Pictures Television, which was filmed during 1992-93. Martin\\'s present home is Santa Fe, New Mexico. He is a member of Science Fiction & Fantasy Writers of America (he was South-Central Regional Director 1977-1979, and Vice President 1996-1998), and of Writers\\' Guild of America, West. http://us.macmillan.com/author/george...        ', 'quote_text': '“... a mind needs books as a sword needs a whetstone, if it is to keep its edge.”', 'quote_tags': ['books', 'mind'], '_id': ObjectId('6053f05e83f920371e2cf1a3')}}], 'writeConcernErrors': [], 'nInserted': 90, 'nUpserted': 0, 'nMatched': 0, 'nModified': 0, 'nRemoved': 0, 'upserted': []}",
     "output_type": "error",
     "traceback": [
      "\u001b[1;31m---------------------------------------------------------------------------\u001b[0m",
      "\u001b[1;31mBulkWriteError\u001b[0m                            Traceback (most recent call last)",
      "\u001b[1;32m<ipython-input-40-964103fbd151>\u001b[0m in \u001b[0;36m<module>\u001b[1;34m\u001b[0m\n\u001b[0;32m      1\u001b[0m \u001b[0mdb\u001b[0m\u001b[1;33m.\u001b[0m\u001b[0mquotes\u001b[0m\u001b[1;33m.\u001b[0m\u001b[0mdrop\u001b[0m\u001b[1;33m(\u001b[0m\u001b[1;33m)\u001b[0m\u001b[1;33m\u001b[0m\u001b[1;33m\u001b[0m\u001b[0m\n\u001b[1;32m----> 2\u001b[1;33m \u001b[0mdb\u001b[0m\u001b[1;33m.\u001b[0m\u001b[0mquotes\u001b[0m\u001b[1;33m.\u001b[0m\u001b[0minsert_many\u001b[0m\u001b[1;33m(\u001b[0m\u001b[0mquotes_list\u001b[0m\u001b[1;33m)\u001b[0m\u001b[1;33m\u001b[0m\u001b[1;33m\u001b[0m\u001b[0m\n\u001b[0m",
      "\u001b[1;32m~\\anaconda3\\lib\\site-packages\\pymongo\\collection.py\u001b[0m in \u001b[0;36minsert_many\u001b[1;34m(self, documents, ordered, bypass_document_validation, session)\u001b[0m\n\u001b[0;32m    759\u001b[0m         \u001b[0mblk\u001b[0m \u001b[1;33m=\u001b[0m \u001b[0m_Bulk\u001b[0m\u001b[1;33m(\u001b[0m\u001b[0mself\u001b[0m\u001b[1;33m,\u001b[0m \u001b[0mordered\u001b[0m\u001b[1;33m,\u001b[0m \u001b[0mbypass_document_validation\u001b[0m\u001b[1;33m)\u001b[0m\u001b[1;33m\u001b[0m\u001b[1;33m\u001b[0m\u001b[0m\n\u001b[0;32m    760\u001b[0m         \u001b[0mblk\u001b[0m\u001b[1;33m.\u001b[0m\u001b[0mops\u001b[0m \u001b[1;33m=\u001b[0m \u001b[1;33m[\u001b[0m\u001b[0mdoc\u001b[0m \u001b[1;32mfor\u001b[0m \u001b[0mdoc\u001b[0m \u001b[1;32min\u001b[0m \u001b[0mgen\u001b[0m\u001b[1;33m(\u001b[0m\u001b[1;33m)\u001b[0m\u001b[1;33m]\u001b[0m\u001b[1;33m\u001b[0m\u001b[1;33m\u001b[0m\u001b[0m\n\u001b[1;32m--> 761\u001b[1;33m         \u001b[0mblk\u001b[0m\u001b[1;33m.\u001b[0m\u001b[0mexecute\u001b[0m\u001b[1;33m(\u001b[0m\u001b[0mwrite_concern\u001b[0m\u001b[1;33m,\u001b[0m \u001b[0msession\u001b[0m\u001b[1;33m=\u001b[0m\u001b[0msession\u001b[0m\u001b[1;33m)\u001b[0m\u001b[1;33m\u001b[0m\u001b[1;33m\u001b[0m\u001b[0m\n\u001b[0m\u001b[0;32m    762\u001b[0m         \u001b[1;32mreturn\u001b[0m \u001b[0mInsertManyResult\u001b[0m\u001b[1;33m(\u001b[0m\u001b[0minserted_ids\u001b[0m\u001b[1;33m,\u001b[0m \u001b[0mwrite_concern\u001b[0m\u001b[1;33m.\u001b[0m\u001b[0macknowledged\u001b[0m\u001b[1;33m)\u001b[0m\u001b[1;33m\u001b[0m\u001b[1;33m\u001b[0m\u001b[0m\n\u001b[0;32m    763\u001b[0m \u001b[1;33m\u001b[0m\u001b[0m\n",
      "\u001b[1;32m~\\anaconda3\\lib\\site-packages\\pymongo\\bulk.py\u001b[0m in \u001b[0;36mexecute\u001b[1;34m(self, write_concern, session)\u001b[0m\n\u001b[0;32m    526\u001b[0m                 \u001b[0mself\u001b[0m\u001b[1;33m.\u001b[0m\u001b[0mexecute_no_results\u001b[0m\u001b[1;33m(\u001b[0m\u001b[0msock_info\u001b[0m\u001b[1;33m,\u001b[0m \u001b[0mgenerator\u001b[0m\u001b[1;33m)\u001b[0m\u001b[1;33m\u001b[0m\u001b[1;33m\u001b[0m\u001b[0m\n\u001b[0;32m    527\u001b[0m         \u001b[1;32melse\u001b[0m\u001b[1;33m:\u001b[0m\u001b[1;33m\u001b[0m\u001b[1;33m\u001b[0m\u001b[0m\n\u001b[1;32m--> 528\u001b[1;33m             \u001b[1;32mreturn\u001b[0m \u001b[0mself\u001b[0m\u001b[1;33m.\u001b[0m\u001b[0mexecute_command\u001b[0m\u001b[1;33m(\u001b[0m\u001b[0mgenerator\u001b[0m\u001b[1;33m,\u001b[0m \u001b[0mwrite_concern\u001b[0m\u001b[1;33m,\u001b[0m \u001b[0msession\u001b[0m\u001b[1;33m)\u001b[0m\u001b[1;33m\u001b[0m\u001b[1;33m\u001b[0m\u001b[0m\n\u001b[0m\u001b[0;32m    529\u001b[0m \u001b[1;33m\u001b[0m\u001b[0m\n\u001b[0;32m    530\u001b[0m \u001b[1;33m\u001b[0m\u001b[0m\n",
      "\u001b[1;32m~\\anaconda3\\lib\\site-packages\\pymongo\\bulk.py\u001b[0m in \u001b[0;36mexecute_command\u001b[1;34m(self, generator, write_concern, session)\u001b[0m\n\u001b[0;32m    361\u001b[0m \u001b[1;33m\u001b[0m\u001b[0m\n\u001b[0;32m    362\u001b[0m         \u001b[1;32mif\u001b[0m \u001b[0mfull_result\u001b[0m\u001b[1;33m[\u001b[0m\u001b[1;34m\"writeErrors\"\u001b[0m\u001b[1;33m]\u001b[0m \u001b[1;32mor\u001b[0m \u001b[0mfull_result\u001b[0m\u001b[1;33m[\u001b[0m\u001b[1;34m\"writeConcernErrors\"\u001b[0m\u001b[1;33m]\u001b[0m\u001b[1;33m:\u001b[0m\u001b[1;33m\u001b[0m\u001b[1;33m\u001b[0m\u001b[0m\n\u001b[1;32m--> 363\u001b[1;33m             \u001b[0m_raise_bulk_write_error\u001b[0m\u001b[1;33m(\u001b[0m\u001b[0mfull_result\u001b[0m\u001b[1;33m)\u001b[0m\u001b[1;33m\u001b[0m\u001b[1;33m\u001b[0m\u001b[0m\n\u001b[0m\u001b[0;32m    364\u001b[0m         \u001b[1;32mreturn\u001b[0m \u001b[0mfull_result\u001b[0m\u001b[1;33m\u001b[0m\u001b[1;33m\u001b[0m\u001b[0m\n\u001b[0;32m    365\u001b[0m \u001b[1;33m\u001b[0m\u001b[0m\n",
      "\u001b[1;32m~\\anaconda3\\lib\\site-packages\\pymongo\\bulk.py\u001b[0m in \u001b[0;36m_raise_bulk_write_error\u001b[1;34m(full_result)\u001b[0m\n\u001b[0;32m    138\u001b[0m         full_result[\"writeErrors\"].sort(\n\u001b[0;32m    139\u001b[0m             key=lambda error: error[\"index\"])\n\u001b[1;32m--> 140\u001b[1;33m     \u001b[1;32mraise\u001b[0m \u001b[0mBulkWriteError\u001b[0m\u001b[1;33m(\u001b[0m\u001b[0mfull_result\u001b[0m\u001b[1;33m)\u001b[0m\u001b[1;33m\u001b[0m\u001b[1;33m\u001b[0m\u001b[0m\n\u001b[0m\u001b[0;32m    141\u001b[0m \u001b[1;33m\u001b[0m\u001b[0m\n\u001b[0;32m    142\u001b[0m \u001b[1;33m\u001b[0m\u001b[0m\n",
      "\u001b[1;31mBulkWriteError\u001b[0m: batch op errors occurred, full error: {'writeErrors': [{'index': 90, 'code': 11000, 'keyPattern': {'_id': 1}, 'keyValue': {'_id': ObjectId('6053f05e83f920371e2cf1a3')}, 'errmsg': \"E11000 duplicate key error collection: quotes_db.quotes index: _id_ dup key: { _id: ObjectId('6053f05e83f920371e2cf1a3') }\", 'op': {'author_name': 'George R.R. Martin', 'birth_date': 'September 20, 1948', 'birth_place': 'in Bayonne, New Jersey, The United States', 'description': '        George R. R. Martin was born September 20, 1948, in Bayonne, New Jersey. His father was Raymond Collins Martin, a longshoreman, and his mother was Margaret Brady Martin. He has two sisters, Darleen Martin Lapinski and Janet Martin Patten. Martin attended Mary Jane Donohoe School and Marist High School. He began writing very young, selling monster stories to other neighborhood children for pennies, dramatic readings included. Later he became a comic book fan and collector in high school, and began to write fiction for comic fanzines (amateur fan magazines). Martin\\'s first professional sale was made in 1970 at age 21: \"The Hero,\" sold to Galaxy, published in February, 1971 issue. Other sales followed. In 1970 Martin received a B.S. in Journalism from Northwestern University, Evanston, Illinois, graduating summa cum laude. He went on to complete a M.S. in Journalism in 1971, also from Northwestern. As a conscientious objector, Martin did alternative service 1972-1974 with VISTA, attached to Cook County Legal Assistance Foundation. He also directed chess tournaments for the Continental Chess Association from 1973-1976, and was a Journalism instructor at Clarke College, Dubuque, Iowa, from 1976-1978. He wrote part-time throughout the 1970s while working as a VISTA Volunteer, chess director, and teacher. In 1975 he married Gale Burnick. They divorced in 1979, with no children. Martin became a full-time writer in 1979. He was writer-in-residence at Clarke College from 1978-79. Moving on to Hollywood, Martin signed on as a story editor for Twilight Zone at CBS Television in 1986. In 1987 Martin became an Executive Story Consultant for Beauty and the Beast at CBS. In 1988 he became a Producer for Beauty and the Beast, then in 1989 moved up to Co-Supervising Producer. He was Executive Producer for Doorways, a pilot which he wrote for Columbia Pictures Television, which was filmed during 1992-93. Martin\\'s present home is Santa Fe, New Mexico. He is a member of Science Fiction & Fantasy Writers of America (he was South-Central Regional Director 1977-1979, and Vice President 1996-1998), and of Writers\\' Guild of America, West. http://us.macmillan.com/author/george...        ', 'quote_text': '“... a mind needs books as a sword needs a whetstone, if it is to keep its edge.”', 'quote_tags': ['books', 'mind'], '_id': ObjectId('6053f05e83f920371e2cf1a3')}}], 'writeConcernErrors': [], 'nInserted': 90, 'nUpserted': 0, 'nMatched': 0, 'nModified': 0, 'nRemoved': 0, 'upserted': []}"
     ]
    }
   ],
   "source": [
    "db.quotes.drop()\n",
    "db.quotes.insert_many(quotes_list)"
   ]
  },
  {
   "cell_type": "code",
   "execution_count": null,
   "metadata": {},
   "outputs": [],
   "source": [
    "list_of_quotes = list(db.quotes.find())\n",
    "#print(list_of_quotes)"
   ]
  },
  {
   "cell_type": "code",
   "execution_count": null,
   "metadata": {},
   "outputs": [],
   "source": [
    "quote_df = pd.DataFrame(list_of_quotes)\n",
    "quote_df.head()"
   ]
  },
  {
   "cell_type": "code",
   "execution_count": null,
   "metadata": {},
   "outputs": [],
   "source": [
    "quote_df = quote_df.drop(['_id'],axis=1)"
   ]
  },
  {
   "cell_type": "code",
   "execution_count": null,
   "metadata": {},
   "outputs": [],
   "source": [
    "quote_df['quote_id'] = quote_df.index\n",
    "quote_df.head()"
   ]
  },
  {
   "cell_type": "code",
   "execution_count": null,
   "metadata": {},
   "outputs": [],
   "source": [
    "tags = quote_df['quote_tags']\n",
    "tags"
   ]
  },
  {
   "cell_type": "code",
   "execution_count": null,
   "metadata": {},
   "outputs": [],
   "source": [
    "tags = quote_df.explode('quote_tags')\n",
    "tags = tags[['quote_tags','quote_id']]\n",
    "tags = tags.set_index('quote_id')\n",
    "tags.rename(columns = {'quote_tags':'tags'},inplace=True)\n",
    "tags"
   ]
  },
  {
   "cell_type": "code",
   "execution_count": null,
   "metadata": {},
   "outputs": [],
   "source": [
    "# To separate the tags in each tag list and make a\n",
    "# new dataframe in which each tag is listed uniquely and connected to a \n",
    "# quote id, do the following (psuedocode):\n",
    "\n",
    "# Create a \"tags\" list that will hold mini dictionaries\n",
    "# E.g. tags = []\n",
    "# Each mini dictionary - two fields: quote_id and tag\n",
    "\n",
    "# FOR every row in the dataframe:\n",
    "#    FOR every tag in the tag list\n",
    "#       Makes two variables: tag, quote_id\n",
    "#       Note: quote_id will be based on quote_id value from big loop\n",
    "#       Note: tag will be based on separated tag from nested loop\n",
    "#       Mini dictionary - stores the two variables\n",
    "#       E.g. tags_dict = {quote_id, tag}\n",
    "#       Append mini dictionary to list\n",
    "#    END of nested loop\n",
    "# END of big loop\n",
    "\n",
    "# PANDAS: make new \"tags\" dataframe out of \"tags\" list\n",
    "# PANDAS: change column names as needed "
   ]
  }
 ],
 "metadata": {
  "kernelspec": {
   "display_name": "Python 3",
   "language": "python",
   "name": "python3"
  },
  "language_info": {
   "codemirror_mode": {
    "name": "ipython",
    "version": 3
   },
   "file_extension": ".py",
   "mimetype": "text/x-python",
   "name": "python",
   "nbconvert_exporter": "python",
   "pygments_lexer": "ipython3",
   "version": "3.8.5"
  }
 },
 "nbformat": 4,
 "nbformat_minor": 4
}
