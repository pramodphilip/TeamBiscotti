{
 "cells": [
  {
   "cell_type": "code",
   "execution_count": 1,
   "metadata": {},
   "outputs": [],
   "source": [
    "from splinter import Browser\n",
    "from bs4 import BeautifulSoup\n",
    "from webdriver_manager.chrome import ChromeDriverManager\n",
    "import pymongo\n",
    "import requests\n",
    "import pandas as pd"
   ]
  },
  {
   "cell_type": "code",
   "execution_count": 2,
   "metadata": {},
   "outputs": [
    {
     "name": "stderr",
     "output_type": "stream",
     "text": [
      "[WDM] - ====== WebDriver manager ======\n"
     ]
    },
    {
     "name": "stdout",
     "output_type": "stream",
     "text": [
      "\n",
      "\n"
     ]
    },
    {
     "name": "stderr",
     "output_type": "stream",
     "text": [
      "[WDM] - Current google-chrome version is 89.0.4389\n",
      "[WDM] - Get LATEST driver version for 89.0.4389\n",
      "[WDM] - Driver [/Users/pramodphilip/.wdm/drivers/chromedriver/mac64/89.0.4389.23/chromedriver] found in cache\n"
     ]
    }
   ],
   "source": [
    "executable_path = {'executable_path': ChromeDriverManager().install()}\n",
    "browser = Browser('chrome', **executable_path, headless=False)"
   ]
  },
  {
   "cell_type": "code",
   "execution_count": 3,
   "metadata": {},
   "outputs": [],
   "source": [
    "url = 'https://quotes.toscrape.com/'\n",
    "browser.visit(url)"
   ]
  },
  {
   "cell_type": "code",
   "execution_count": 4,
   "metadata": {},
   "outputs": [],
   "source": [
    "html = browser.html\n",
    "soup = BeautifulSoup(html,'html.parser')"
   ]
  },
  {
   "cell_type": "code",
   "execution_count": 5,
   "metadata": {},
   "outputs": [],
   "source": [
    "#quote_list = []"
   ]
  },
  {
   "cell_type": "code",
   "execution_count": 6,
   "metadata": {},
   "outputs": [],
   "source": [
    "boxes = soup.find_all('div',class_='quote')\n",
    "#target = boxes[0].a['href']\n",
    "#browser.links.find_by_href(target).click()"
   ]
  },
  {
   "cell_type": "code",
   "execution_count": 7,
   "metadata": {},
   "outputs": [],
   "source": [
    "#html = browser.html\n",
    "#soup = BeautifulSoup(html,'html.parser')"
   ]
  },
  {
   "cell_type": "code",
   "execution_count": 8,
   "metadata": {},
   "outputs": [],
   "source": [
    "#author_name = soup.find('h3',class_='author-title').text\n",
    "#author_name"
   ]
  },
  {
   "cell_type": "code",
   "execution_count": 9,
   "metadata": {},
   "outputs": [],
   "source": [
    "#author_born_date = soup.find('span',class_='author-born-date').text\n",
    "#author_born_location = soup.find('span',class_='author-born-location').text\n",
    "#description = soup.find('div',class_='author-description').text.replace('\\n', '')"
   ]
  },
  {
   "cell_type": "code",
   "execution_count": 10,
   "metadata": {},
   "outputs": [],
   "source": [
    "#browser.back()"
   ]
  },
  {
   "cell_type": "code",
   "execution_count": 11,
   "metadata": {},
   "outputs": [],
   "source": [
    "#quote_text = boxes[0].span.text\n",
    "#quote_text"
   ]
  },
  {
   "cell_type": "code",
   "execution_count": 12,
   "metadata": {},
   "outputs": [],
   "source": [
    "#quote_tags = boxes[7].div.text.replace('\\n',',').split(',')\n",
    "\n",
    "#do_not_want = ['','            Tags:','            ']\n",
    "#quote_tags = [tag for tag in quote_tags if tag not in do_not_want]\n",
    "\n",
    "#'            ' # boxes[1]\n",
    "#'            '\n",
    "#quote_tags.remove('')\n",
    "#quote_tags.remove('            ')\n",
    "#quote_tags.remove('            Tags:')\n",
    "#quote_tags"
   ]
  },
  {
   "cell_type": "code",
   "execution_count": 13,
   "metadata": {},
   "outputs": [],
   "source": [
    "#quote_mini = {'author_name':author_name,\n",
    "#              'author_born_date':author_born_date,\n",
    "#              'author_born_location':author_born_location,\n",
    "#              'description':description,\n",
    "#              'quote_text':quote_text,\n",
    "#              'quote_tags':quote_tags}\n",
    "#quote_mini"
   ]
  },
  {
   "cell_type": "code",
   "execution_count": 14,
   "metadata": {},
   "outputs": [],
   "source": [
    "#quote_list.append(quote_mini)\n",
    "#quote_list"
   ]
  },
  {
   "cell_type": "code",
   "execution_count": 15,
   "metadata": {},
   "outputs": [],
   "source": [
    "#browser.links.find_by_text('Next ').click()\n",
    "\n",
    "#html = browser.html\n",
    "#soup = BeautifulSoup(html,'html.parser')\n",
    "\n",
    "#boxes = soup.find_all('div',class_='quote')\n",
    "#boxes"
   ]
  },
  {
   "cell_type": "code",
   "execution_count": 16,
   "metadata": {},
   "outputs": [],
   "source": [
    "#browser.quit()"
   ]
  },
  {
   "cell_type": "code",
   "execution_count": 17,
   "metadata": {},
   "outputs": [],
   "source": [
    "quotes_list = []\n",
    "\n",
    "while len(browser.links.find_by_partial_text('Next ')) > 0:\n",
    "    for box in boxes:\n",
    "        \n",
    "        target = box.a['href']\n",
    "        browser.links.find_by_href(target).click()\n",
    "        \n",
    "        html = browser.html\n",
    "        soup = BeautifulSoup(html,'html.parser')\n",
    "        \n",
    "        quote_mini['author_name'] = soup.find('h3',class_='author-title').text\n",
    "        \n",
    "        quote_mini['birth_date'] = soup.find('span',class_='author-born-date').text\n",
    "        quote_mini['birth_place'] = soup.find('span',class_='author-born-location').text\n",
    "        quote_mini['description'] = soup.find('div',class_='author-description').text.replace('\\n', '')\n",
    "        \n",
    "        browser.back()\n",
    "        \n",
    "        quote_mini['quote_text'] = box.span.text\n",
    "        \n",
    "        quote_tags = box.div.text.replace('\\n',',').split(',')\n",
    "        do_not_want = ['','            Tags:','            ']\n",
    "        quote_mini['quote_tags'] = [tag for tag in quote_tags if tag not in do_not_want]\n",
    "        \n",
    "        #quote_mini = {'author_name':author_name,\n",
    "        #              'birth_date':author_born_date,\n",
    "        #              'birth_place':author_born_location,\n",
    "        #              'description':description,\n",
    "        #              'quote_text':quote_text,\n",
    "        #              'quote_tags':quote_tags}\n",
    "        \n",
    "        quotes_list.append(quote_mini)\n",
    "        \n",
    "    browser.links.find_by_text('Next ').click()\n",
    "\n",
    "    html = browser.html\n",
    "    soup = BeautifulSoup(html,'html.parser')\n",
    "\n",
    "    boxes = soup.find_all('div',class_='quote')"
   ]
  },
  {
   "cell_type": "code",
   "execution_count": 18,
   "metadata": {},
   "outputs": [],
   "source": [
    "for box in boxes:\n",
    "    target = box.a['href']\n",
    "    browser.links.find_by_href(target).click()\n",
    "        \n",
    "    html = browser.html\n",
    "    soup = BeautifulSoup(html,'html.parser')\n",
    "        \n",
    "    quote_mini['author_name'] = soup.find('h3',class_='author-title').text\n",
    "        \n",
    "    quote_mini['birth_date'] = soup.find('span',class_='author-born-date').text\n",
    "    quote_mini['birth_place'] = soup.find('span',class_='author-born-location').text\n",
    "    quote_mini[\"description\"] = soup.find('div',class_='author-description').text.replace('\\n', '')\n",
    "        \n",
    "    browser.back()\n",
    "        \n",
    "    quote_mini['quote_text'] = box.span.text\n",
    "        \n",
    "    quote_tags = box.div.text.replace('\\n',',').split(',')\n",
    "    do_not_want = ['','            Tags:','            ']\n",
    "    quote_mini['quote_tags'] = [tag for tag in quote_tags if tag not in do_not_want]\n",
    "\n",
    "    #quote_mini = {'author_name':author_name,\n",
    "    #              'birth_date':author_born_date,\n",
    "    #              'birth_place':author_born_location,\n",
    "    #              'description':description,\n",
    "    #              'quote_text':quote_text,\n",
    "    #              'quote_tags':quote_tags}\n",
    "        \n",
    "    quotes_list.append(quote_mini)"
   ]
  },
  {
   "cell_type": "code",
   "execution_count": 19,
   "metadata": {},
   "outputs": [],
   "source": [
    "browser.quit()"
   ]
  },
  {
   "cell_type": "code",
   "execution_count": 20,
   "metadata": {},
   "outputs": [],
   "source": [
    "#quotes_list"
   ]
  },
  {
   "cell_type": "code",
   "execution_count": 21,
   "metadata": {},
   "outputs": [],
   "source": [
    "conn = 'mongodb://localhost:27017'\n",
    "client = pymongo.MongoClient(conn)"
   ]
  },
  {
   "cell_type": "code",
   "execution_count": 22,
   "metadata": {},
   "outputs": [],
   "source": [
    "db = client.quotes_db"
   ]
  },
  {
   "cell_type": "code",
   "execution_count": 23,
   "metadata": {},
   "outputs": [
    {
     "data": {
      "text/plain": [
       "<pymongo.results.InsertManyResult at 0x7fb87d824d40>"
      ]
     },
     "execution_count": 23,
     "metadata": {},
     "output_type": "execute_result"
    }
   ],
   "source": [
    "db.quotes.drop()\n",
    "db.quotes.insert_many(quotes_list)"
   ]
  },
  {
   "cell_type": "code",
   "execution_count": 24,
   "metadata": {},
   "outputs": [],
   "source": [
    "list_of_quotes = list(db.quotes.find())\n",
    "#print(list_of_quotes)"
   ]
  },
  {
   "cell_type": "code",
   "execution_count": 25,
   "metadata": {},
   "outputs": [
    {
     "data": {
      "text/html": [
       "<div>\n",
       "<style scoped>\n",
       "    .dataframe tbody tr th:only-of-type {\n",
       "        vertical-align: middle;\n",
       "    }\n",
       "\n",
       "    .dataframe tbody tr th {\n",
       "        vertical-align: top;\n",
       "    }\n",
       "\n",
       "    .dataframe thead th {\n",
       "        text-align: right;\n",
       "    }\n",
       "</style>\n",
       "<table border=\"1\" class=\"dataframe\">\n",
       "  <thead>\n",
       "    <tr style=\"text-align: right;\">\n",
       "      <th></th>\n",
       "      <th>_id</th>\n",
       "      <th>author_name</th>\n",
       "      <th>birth_date</th>\n",
       "      <th>birth_place</th>\n",
       "      <th>description</th>\n",
       "      <th>quote_text</th>\n",
       "      <th>quote_tags</th>\n",
       "    </tr>\n",
       "  </thead>\n",
       "  <tbody>\n",
       "    <tr>\n",
       "      <th>0</th>\n",
       "      <td>6053dc193316a74bbd2b83dd</td>\n",
       "      <td>Albert Einstein</td>\n",
       "      <td>March 14, 1879</td>\n",
       "      <td>in Ulm, Germany</td>\n",
       "      <td>In 1879, Albert Einstein was born in U...</td>\n",
       "      <td>“The world as we have created it is a process ...</td>\n",
       "      <td>[change, deep-thoughts, thinking, world]</td>\n",
       "    </tr>\n",
       "    <tr>\n",
       "      <th>1</th>\n",
       "      <td>6053dc193316a74bbd2b83de</td>\n",
       "      <td>J.K. Rowling</td>\n",
       "      <td>July 31, 1965</td>\n",
       "      <td>in Yate, South Gloucestershire, England, The U...</td>\n",
       "      <td>See also: Robert GalbraithAlthough she...</td>\n",
       "      <td>“It is our choices, Harry, that show what we t...</td>\n",
       "      <td>[abilities, choices]</td>\n",
       "    </tr>\n",
       "    <tr>\n",
       "      <th>2</th>\n",
       "      <td>6053dc193316a74bbd2b83df</td>\n",
       "      <td>Albert Einstein</td>\n",
       "      <td>March 14, 1879</td>\n",
       "      <td>in Ulm, Germany</td>\n",
       "      <td>In 1879, Albert Einstein was born in U...</td>\n",
       "      <td>“There are only two ways to live your life. On...</td>\n",
       "      <td>[inspirational, life, live, miracle, miracles]</td>\n",
       "    </tr>\n",
       "    <tr>\n",
       "      <th>3</th>\n",
       "      <td>6053dc193316a74bbd2b83e0</td>\n",
       "      <td>Jane Austen</td>\n",
       "      <td>December 16, 1775</td>\n",
       "      <td>in Steventon Rectory, Hampshire, The United Ki...</td>\n",
       "      <td>Jane Austen was an English novelist wh...</td>\n",
       "      <td>“The person, be it gentleman or lady, who has ...</td>\n",
       "      <td>[aliteracy, books, classic, humor]</td>\n",
       "    </tr>\n",
       "    <tr>\n",
       "      <th>4</th>\n",
       "      <td>6053dc193316a74bbd2b83e1</td>\n",
       "      <td>Marilyn Monroe</td>\n",
       "      <td>June 01, 1926</td>\n",
       "      <td>in The United States</td>\n",
       "      <td>Marilyn Monroe (born Norma Jeane Morte...</td>\n",
       "      <td>“Imperfection is beauty, madness is genius and...</td>\n",
       "      <td>[be-yourself, inspirational]</td>\n",
       "    </tr>\n",
       "  </tbody>\n",
       "</table>\n",
       "</div>"
      ],
      "text/plain": [
       "                        _id      author_name         birth_date  \\\n",
       "0  6053dc193316a74bbd2b83dd  Albert Einstein     March 14, 1879   \n",
       "1  6053dc193316a74bbd2b83de     J.K. Rowling      July 31, 1965   \n",
       "2  6053dc193316a74bbd2b83df  Albert Einstein     March 14, 1879   \n",
       "3  6053dc193316a74bbd2b83e0      Jane Austen  December 16, 1775   \n",
       "4  6053dc193316a74bbd2b83e1   Marilyn Monroe      June 01, 1926   \n",
       "\n",
       "                                         birth_place  \\\n",
       "0                                    in Ulm, Germany   \n",
       "1  in Yate, South Gloucestershire, England, The U...   \n",
       "2                                    in Ulm, Germany   \n",
       "3  in Steventon Rectory, Hampshire, The United Ki...   \n",
       "4                               in The United States   \n",
       "\n",
       "                                         description  \\\n",
       "0          In 1879, Albert Einstein was born in U...   \n",
       "1          See also: Robert GalbraithAlthough she...   \n",
       "2          In 1879, Albert Einstein was born in U...   \n",
       "3          Jane Austen was an English novelist wh...   \n",
       "4          Marilyn Monroe (born Norma Jeane Morte...   \n",
       "\n",
       "                                          quote_text  \\\n",
       "0  “The world as we have created it is a process ...   \n",
       "1  “It is our choices, Harry, that show what we t...   \n",
       "2  “There are only two ways to live your life. On...   \n",
       "3  “The person, be it gentleman or lady, who has ...   \n",
       "4  “Imperfection is beauty, madness is genius and...   \n",
       "\n",
       "                                       quote_tags  \n",
       "0        [change, deep-thoughts, thinking, world]  \n",
       "1                            [abilities, choices]  \n",
       "2  [inspirational, life, live, miracle, miracles]  \n",
       "3              [aliteracy, books, classic, humor]  \n",
       "4                    [be-yourself, inspirational]  "
      ]
     },
     "execution_count": 25,
     "metadata": {},
     "output_type": "execute_result"
    }
   ],
   "source": [
    "quote_df = pd.DataFrame(list_of_quotes)\n",
    "quote_df.head()"
   ]
  },
  {
   "cell_type": "code",
   "execution_count": 26,
   "metadata": {},
   "outputs": [],
   "source": [
    "quote_df = quote_df.drop(['_id'],axis=1)"
   ]
  },
  {
   "cell_type": "code",
   "execution_count": 27,
   "metadata": {},
   "outputs": [
    {
     "data": {
      "text/html": [
       "<div>\n",
       "<style scoped>\n",
       "    .dataframe tbody tr th:only-of-type {\n",
       "        vertical-align: middle;\n",
       "    }\n",
       "\n",
       "    .dataframe tbody tr th {\n",
       "        vertical-align: top;\n",
       "    }\n",
       "\n",
       "    .dataframe thead th {\n",
       "        text-align: right;\n",
       "    }\n",
       "</style>\n",
       "<table border=\"1\" class=\"dataframe\">\n",
       "  <thead>\n",
       "    <tr style=\"text-align: right;\">\n",
       "      <th></th>\n",
       "      <th>author_name</th>\n",
       "      <th>birth_date</th>\n",
       "      <th>birth_place</th>\n",
       "      <th>description</th>\n",
       "      <th>quote_text</th>\n",
       "      <th>quote_tags</th>\n",
       "      <th>quote_id</th>\n",
       "    </tr>\n",
       "  </thead>\n",
       "  <tbody>\n",
       "    <tr>\n",
       "      <th>0</th>\n",
       "      <td>Albert Einstein</td>\n",
       "      <td>March 14, 1879</td>\n",
       "      <td>in Ulm, Germany</td>\n",
       "      <td>In 1879, Albert Einstein was born in U...</td>\n",
       "      <td>“The world as we have created it is a process ...</td>\n",
       "      <td>[change, deep-thoughts, thinking, world]</td>\n",
       "      <td>0</td>\n",
       "    </tr>\n",
       "    <tr>\n",
       "      <th>1</th>\n",
       "      <td>J.K. Rowling</td>\n",
       "      <td>July 31, 1965</td>\n",
       "      <td>in Yate, South Gloucestershire, England, The U...</td>\n",
       "      <td>See also: Robert GalbraithAlthough she...</td>\n",
       "      <td>“It is our choices, Harry, that show what we t...</td>\n",
       "      <td>[abilities, choices]</td>\n",
       "      <td>1</td>\n",
       "    </tr>\n",
       "    <tr>\n",
       "      <th>2</th>\n",
       "      <td>Albert Einstein</td>\n",
       "      <td>March 14, 1879</td>\n",
       "      <td>in Ulm, Germany</td>\n",
       "      <td>In 1879, Albert Einstein was born in U...</td>\n",
       "      <td>“There are only two ways to live your life. On...</td>\n",
       "      <td>[inspirational, life, live, miracle, miracles]</td>\n",
       "      <td>2</td>\n",
       "    </tr>\n",
       "    <tr>\n",
       "      <th>3</th>\n",
       "      <td>Jane Austen</td>\n",
       "      <td>December 16, 1775</td>\n",
       "      <td>in Steventon Rectory, Hampshire, The United Ki...</td>\n",
       "      <td>Jane Austen was an English novelist wh...</td>\n",
       "      <td>“The person, be it gentleman or lady, who has ...</td>\n",
       "      <td>[aliteracy, books, classic, humor]</td>\n",
       "      <td>3</td>\n",
       "    </tr>\n",
       "    <tr>\n",
       "      <th>4</th>\n",
       "      <td>Marilyn Monroe</td>\n",
       "      <td>June 01, 1926</td>\n",
       "      <td>in The United States</td>\n",
       "      <td>Marilyn Monroe (born Norma Jeane Morte...</td>\n",
       "      <td>“Imperfection is beauty, madness is genius and...</td>\n",
       "      <td>[be-yourself, inspirational]</td>\n",
       "      <td>4</td>\n",
       "    </tr>\n",
       "  </tbody>\n",
       "</table>\n",
       "</div>"
      ],
      "text/plain": [
       "       author_name         birth_date  \\\n",
       "0  Albert Einstein     March 14, 1879   \n",
       "1     J.K. Rowling      July 31, 1965   \n",
       "2  Albert Einstein     March 14, 1879   \n",
       "3      Jane Austen  December 16, 1775   \n",
       "4   Marilyn Monroe      June 01, 1926   \n",
       "\n",
       "                                         birth_place  \\\n",
       "0                                    in Ulm, Germany   \n",
       "1  in Yate, South Gloucestershire, England, The U...   \n",
       "2                                    in Ulm, Germany   \n",
       "3  in Steventon Rectory, Hampshire, The United Ki...   \n",
       "4                               in The United States   \n",
       "\n",
       "                                         description  \\\n",
       "0          In 1879, Albert Einstein was born in U...   \n",
       "1          See also: Robert GalbraithAlthough she...   \n",
       "2          In 1879, Albert Einstein was born in U...   \n",
       "3          Jane Austen was an English novelist wh...   \n",
       "4          Marilyn Monroe (born Norma Jeane Morte...   \n",
       "\n",
       "                                          quote_text  \\\n",
       "0  “The world as we have created it is a process ...   \n",
       "1  “It is our choices, Harry, that show what we t...   \n",
       "2  “There are only two ways to live your life. On...   \n",
       "3  “The person, be it gentleman or lady, who has ...   \n",
       "4  “Imperfection is beauty, madness is genius and...   \n",
       "\n",
       "                                       quote_tags  quote_id  \n",
       "0        [change, deep-thoughts, thinking, world]         0  \n",
       "1                            [abilities, choices]         1  \n",
       "2  [inspirational, life, live, miracle, miracles]         2  \n",
       "3              [aliteracy, books, classic, humor]         3  \n",
       "4                    [be-yourself, inspirational]         4  "
      ]
     },
     "execution_count": 27,
     "metadata": {},
     "output_type": "execute_result"
    }
   ],
   "source": [
    "quote_df['quote_id'] = quote_df.index\n",
    "quote_df.head()"
   ]
  },
  {
   "cell_type": "code",
   "execution_count": 28,
   "metadata": {},
   "outputs": [
    {
     "data": {
      "text/plain": [
       "0              [change, deep-thoughts, thinking, world]\n",
       "1                                  [abilities, choices]\n",
       "2        [inspirational, life, live, miracle, miracles]\n",
       "3                    [aliteracy, books, classic, humor]\n",
       "4                          [be-yourself, inspirational]\n",
       "                            ...                        \n",
       "95                                [better-life-empathy]\n",
       "96    [books, children, difficult, grown-ups, write,...\n",
       "97                                              [truth]\n",
       "98                                      [inspirational]\n",
       "99                                        [books, mind]\n",
       "Name: quote_tags, Length: 100, dtype: object"
      ]
     },
     "execution_count": 28,
     "metadata": {},
     "output_type": "execute_result"
    }
   ],
   "source": [
    "tags = quote_df['quote_tags']\n",
    "tags"
   ]
  },
  {
   "cell_type": "code",
   "execution_count": 40,
   "metadata": {},
   "outputs": [
    {
     "data": {
      "text/html": [
       "<div>\n",
       "<style scoped>\n",
       "    .dataframe tbody tr th:only-of-type {\n",
       "        vertical-align: middle;\n",
       "    }\n",
       "\n",
       "    .dataframe tbody tr th {\n",
       "        vertical-align: top;\n",
       "    }\n",
       "\n",
       "    .dataframe thead th {\n",
       "        text-align: right;\n",
       "    }\n",
       "</style>\n",
       "<table border=\"1\" class=\"dataframe\">\n",
       "  <thead>\n",
       "    <tr style=\"text-align: right;\">\n",
       "      <th></th>\n",
       "      <th>tags</th>\n",
       "    </tr>\n",
       "    <tr>\n",
       "      <th>quote_id</th>\n",
       "      <th></th>\n",
       "    </tr>\n",
       "  </thead>\n",
       "  <tbody>\n",
       "    <tr>\n",
       "      <th>0</th>\n",
       "      <td>change</td>\n",
       "    </tr>\n",
       "    <tr>\n",
       "      <th>0</th>\n",
       "      <td>deep-thoughts</td>\n",
       "    </tr>\n",
       "    <tr>\n",
       "      <th>0</th>\n",
       "      <td>thinking</td>\n",
       "    </tr>\n",
       "    <tr>\n",
       "      <th>0</th>\n",
       "      <td>world</td>\n",
       "    </tr>\n",
       "    <tr>\n",
       "      <th>1</th>\n",
       "      <td>abilities</td>\n",
       "    </tr>\n",
       "    <tr>\n",
       "      <th>...</th>\n",
       "      <td>...</td>\n",
       "    </tr>\n",
       "    <tr>\n",
       "      <th>96</th>\n",
       "      <td>writing</td>\n",
       "    </tr>\n",
       "    <tr>\n",
       "      <th>97</th>\n",
       "      <td>truth</td>\n",
       "    </tr>\n",
       "    <tr>\n",
       "      <th>98</th>\n",
       "      <td>inspirational</td>\n",
       "    </tr>\n",
       "    <tr>\n",
       "      <th>99</th>\n",
       "      <td>books</td>\n",
       "    </tr>\n",
       "    <tr>\n",
       "      <th>99</th>\n",
       "      <td>mind</td>\n",
       "    </tr>\n",
       "  </tbody>\n",
       "</table>\n",
       "<p>235 rows × 1 columns</p>\n",
       "</div>"
      ],
      "text/plain": [
       "                   tags\n",
       "quote_id               \n",
       "0                change\n",
       "0         deep-thoughts\n",
       "0              thinking\n",
       "0                 world\n",
       "1             abilities\n",
       "...                 ...\n",
       "96              writing\n",
       "97                truth\n",
       "98        inspirational\n",
       "99                books\n",
       "99                 mind\n",
       "\n",
       "[235 rows x 1 columns]"
      ]
     },
     "execution_count": 40,
     "metadata": {},
     "output_type": "execute_result"
    }
   ],
   "source": [
    "tags = quote_df.explode('quote_tags')\n",
    "tags = tags[['quote_tags','quote_id']]\n",
    "tags = tags.set_index('quote_id')\n",
    "tags.rename(columns = {'quote_tags':'tags'},inplace=True)\n",
    "tags"
   ]
  },
  {
   "cell_type": "code",
   "execution_count": null,
   "metadata": {},
   "outputs": [],
   "source": [
    "# To separate the tags in each tag list and make a\n",
    "# new dataframe in which each tag is listed uniquely and connected to a \n",
    "# quote id, do the following (psuedocode):\n",
    "\n",
    "# Create a \"tags\" list that will hold mini dictionaries\n",
    "# E.g. tags = []\n",
    "# Each mini dictionary - two fields: quote_id and tag\n",
    "\n",
    "# FOR every row in the dataframe:\n",
    "#    FOR every tag in the tag list\n",
    "#       Makes two variables: tag, quote_id\n",
    "#       Note: quote_id will be based on quote_id value from big loop\n",
    "#       Note: tag will be based on separated tag from nested loop\n",
    "#       Mini dictionary - stores the two variables\n",
    "#       E.g. tags_dict = {quote_id, tag}\n",
    "#       Append mini dictionary to list\n",
    "#    END of nested loop\n",
    "# END of big loop\n",
    "\n",
    "# PANDAS: make new \"tags\" dataframe out of \"tags\" list\n",
    "# PANDAS: change column names as needed "
   ]
  }
 ],
 "metadata": {
  "kernelspec": {
   "display_name": "Python 3",
   "language": "python",
   "name": "python3"
  },
  "language_info": {
   "codemirror_mode": {
    "name": "ipython",
    "version": 3
   },
   "file_extension": ".py",
   "mimetype": "text/x-python",
   "name": "python",
   "nbconvert_exporter": "python",
   "pygments_lexer": "ipython3",
   "version": "3.8.5"
  }
 },
 "nbformat": 4,
 "nbformat_minor": 4
}
