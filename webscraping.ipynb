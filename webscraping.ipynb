{
 "cells": [
  {
   "cell_type": "code",
   "execution_count": null,
   "metadata": {},
   "outputs": [],
   "source": [
    "# import dependancies\n",
    "splinter\n",
    "bs4\n",
    "webdriver\n",
    "panda\n",
    "requests"
   ]
  },
  {
   "cell_type": "code",
   "execution_count": null,
   "metadata": {},
   "outputs": [],
   "source": [
    "# create path\n",
    "# open broswer window\n",
    "# establish URL\n",
    "# grab page as html (browser.html)\n",
    "# create soup object\n",
    "# grab text for quote_text, tags, author_name\n",
    "# click thing for author details (find_by_)\n",
    "# grab author_name, author_born, author_description \n",
    "# click function for back to main quotes page in order to get enxt author info\n",
    "# crate a click function for next button (while loop if statement?)"
   ]
  }
 ],
 "metadata": {
  "kernelspec": {
   "display_name": "Python 3",
   "language": "python",
   "name": "python3"
  },
  "language_info": {
   "codemirror_mode": {
    "name": "ipython",
    "version": 3
   },
   "file_extension": ".py",
   "mimetype": "text/x-python",
   "name": "python",
   "nbconvert_exporter": "python",
   "pygments_lexer": "ipython3",
   "version": "3.8.5"
  }
 },
 "nbformat": 4,
 "nbformat_minor": 4
}
